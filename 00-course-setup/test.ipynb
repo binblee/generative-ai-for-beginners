{
 "cells": [
  {
   "cell_type": "code",
   "execution_count": 3,
   "id": "d78e779d",
   "metadata": {},
   "outputs": [],
   "source": [
    "from dotenv import load_dotenv\n",
    "load_dotenv()\n",
    "import os\n",
    "from openai import OpenAI"
   ]
  },
  {
   "cell_type": "code",
   "execution_count": 4,
   "id": "e6aed2d1",
   "metadata": {},
   "outputs": [
    {
     "name": "stdout",
     "output_type": "stream",
     "text": [
      "Reasoning: Okay, the user is asking, \"What is the capital of France?\" Let me think. France is a country in Europe, right? I remember learning that Paris is a major city there. But wait, is there any chance that the capital might have changed? I don't recall hearing about any recent changes. Maybe I should double-check.\n",
      "\n",
      "Let me consider other cities in France. There's Lyon, Marseille, Bordeaux. But none of those are capitals. The capital is usually the political and administrative center. Paris is where the government is, like the Elysée Palace for the President and the National Assembly. The Eiffel Tower is in Paris too. Also, major museums like the Louvre. So all the important institutions are in Paris. I think that's correct. Maybe some people confuse it with other cities, but I'm pretty sure it's Paris. Yeah, the answer should be Paris.\n",
      "Answer: The capital of France is **Paris**. Known for its rich history, iconic landmarks like the Eiffel Tower, and cultural significance, Paris has been the political and cultural heart of France for centuries. 🇫🇷\n"
     ]
    }
   ],
   "source": [
    "client = OpenAI(\n",
    "    api_key=os.getenv(\"DASHSCOPE_API_KEY\"),\n",
    "    base_url=\"https://dashscope.aliyuncs.com/compatible-mode/v1\",\n",
    ")\n",
    "completion = client.chat.completions.create(\n",
    "    model=\"deepseek-r1\",\n",
    "    messages=[\n",
    "        {\n",
    "            \"role\": \"user\",\n",
    "            \"content\": \"What is the capital of France?\"\n",
    "        }\n",
    "    ]\n",
    ")\n",
    "print(\"Reasoning:\", completion.choices[0].message.reasoning_content)\n",
    "print(\"Answer:\", completion.choices[0].message.content)"
   ]
  }
 ],
 "metadata": {
  "kernelspec": {
   "display_name": "genai4beginners",
   "language": "python",
   "name": "python3"
  },
  "language_info": {
   "codemirror_mode": {
    "name": "ipython",
    "version": 3
   },
   "file_extension": ".py",
   "mimetype": "text/x-python",
   "name": "python",
   "nbconvert_exporter": "python",
   "pygments_lexer": "ipython3",
   "version": "3.12.2"
  }
 },
 "nbformat": 4,
 "nbformat_minor": 5
}
