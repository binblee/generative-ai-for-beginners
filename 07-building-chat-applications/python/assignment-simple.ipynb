{
 "cells": [
  {
   "cell_type": "code",
   "execution_count": 4,
   "id": "31016cbc",
   "metadata": {},
   "outputs": [],
   "source": [
    "from dotenv import load_dotenv\n",
    "load_dotenv()\n",
    "import os\n",
    "from openai import OpenAI\n",
    "from IPython.display import display, Markdown\n",
    "\n",
    "client = OpenAI(\n",
    "    api_key=os.getenv(\"DASHSCOPE_API_KEY\"),\n",
    "    base_url=\"https://dashscope.aliyuncs.com/compatible-mode/v1\",\n",
    ")\n",
    "model = \"deepseek-v3\"\n",
    "# model = \"deepseek-r1\""
   ]
  },
  {
   "cell_type": "code",
   "execution_count": 5,
   "id": "3716c5fa",
   "metadata": {},
   "outputs": [
    {
     "data": {
      "text/markdown": [
       "I’m not a doctor, but I can provide some general information about potential causes of foot pain. It’s important to consult a healthcare professional for a proper diagnosis and treatment. Here are some common reasons for foot pain:\n",
       "\n",
       "### 1. **Injury or Trauma**\n",
       "   - **Sprains or Strains**: Overstretching or tearing ligaments or muscles.\n",
       "   - **Fractures**: A broken bone in the foot.\n",
       "   - **Bruises**: Impact or trauma to the foot.\n",
       "\n",
       "### 2. **Overuse or Repetitive Stress**\n",
       "   - **Plantar Fasciitis**: Inflammation of the plantar fascia, causing heel pain.\n",
       "   - **Achilles Tendinitis**: Inflammation of the Achilles tendon.\n",
       "   - **Stress Fractures**: Small cracks in bones due to repetitive force.\n",
       "\n",
       "### 3. **Footwear Issues**\n",
       "   - Ill-fitting shoes or high heels can cause pain, blisters, or calluses.\n",
       "\n",
       "### 4. **Medical Conditions**\n",
       "   - **Arthritis**: Inflammation of the joints (e.g., osteoarthritis, rheumatoid arthritis).\n",
       "   - **Gout**: A type of arthritis caused by uric acid buildup.\n",
       "   - **Diabetes**: Can cause nerve damage (neuropathy) or poor circulation in the feet.\n",
       "   - **Bunions or Hammertoes**: Structural deformities of the foot.\n",
       "\n",
       "### 5. **Infections**\n",
       "   - Fungal infections (e.g., athlete’s foot) or bacterial infections.\n",
       "\n",
       "### 6. **Nerve Issues**\n",
       "   - **Tarsal Tunnel Syndrome**: Compression of the tibial nerve.\n",
       "   - **Peripheral Neuropathy**: Nerve damage causing pain, tingling, or numbness.\n",
       "\n",
       "### 7. **Other Causes**\n",
       "   - **Flat Feet or High Arches**: Abnormal foot structure.\n",
       "   - **Corns or Calluses**: Thickened skin due to friction.\n",
       "\n",
       "### When to See a Doctor\n",
       "- Severe pain or swelling.\n",
       "- Inability to bear weight on the foot.\n",
       "- Signs of infection (redness, warmth, fever).\n",
       "- Persistent pain that doesn’t improve with rest or over-the-counter treatments.\n",
       "\n",
       "### Immediate Self-Care\n",
       "- Rest and avoid putting weight on the foot.\n",
       "- Apply ice to reduce swelling.\n",
       "- Elevate the foot to decrease inflammation.\n",
       "- Wear supportive, comfortable shoes.\n",
       "\n",
       "If the pain persists or worsens, seek medical attention for a proper evaluation and treatment plan."
      ],
      "text/plain": [
       "<IPython.core.display.Markdown object>"
      ]
     },
     "metadata": {},
     "output_type": "display_data"
    }
   ],
   "source": [
    "text_prompt = \" My foot hurts, what can be wrong?\"\n",
    "\n",
    "response = client.chat.completions.create(\n",
    "  model=model,\n",
    "  messages = [\n",
    "      {\"role\":\"system\", \"content\":\"I'm a doctor, specialist on surgery\"},\n",
    "      {\"role\":\"user\",\"content\":text_prompt},])\n",
    "\n",
    "display(Markdown(response.choices[0].message.content))"
   ]
  }
 ],
 "metadata": {
  "kernelspec": {
   "display_name": "genai4beginners",
   "language": "python",
   "name": "python3"
  },
  "language_info": {
   "codemirror_mode": {
    "name": "ipython",
    "version": 3
   },
   "file_extension": ".py",
   "mimetype": "text/x-python",
   "name": "python",
   "nbconvert_exporter": "python",
   "pygments_lexer": "ipython3",
   "version": "3.12.2"
  }
 },
 "nbformat": 4,
 "nbformat_minor": 5
}
